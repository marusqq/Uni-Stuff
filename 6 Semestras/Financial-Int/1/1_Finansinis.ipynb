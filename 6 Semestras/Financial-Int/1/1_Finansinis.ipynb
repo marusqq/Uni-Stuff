{
  "nbformat": 4,
  "nbformat_minor": 0,
  "metadata": {
    "colab": {
      "name": "1# Finansinis.ipynb",
      "provenance": [],
      "collapsed_sections": [],
      "authorship_tag": "ABX9TyMRfiPmpFXAM2SRo3GdU24v",
      "include_colab_link": true
    },
    "kernelspec": {
      "name": "python3",
      "display_name": "Python 3"
    }
  },
  "cells": [
    {
      "cell_type": "markdown",
      "metadata": {
        "id": "view-in-github",
        "colab_type": "text"
      },
      "source": [
        "<a href=\"https://colab.research.google.com/github/marusqq/Financial-Int/blob/master/1_Finansinis.ipynb\" target=\"_parent\"><img src=\"https://colab.research.google.com/assets/colab-badge.svg\" alt=\"Open In Colab\"/></a>"
      ]
    },
    {
      "cell_type": "code",
      "metadata": {
        "id": "qIZ4JyE4IUHa",
        "colab_type": "code",
        "colab": {}
      },
      "source": [
        "# Marius Pozniakovas"
      ],
      "execution_count": 0,
      "outputs": []
    },
    {
      "cell_type": "code",
      "metadata": {
        "id": "ffSUByY_IaYR",
        "colab_type": "code",
        "outputId": "d7af1542-ab7b-4ce6-c71f-bbb2bb2d8ff2",
        "colab": {
          "base_uri": "https://localhost:8080/",
          "height": 145
        }
      },
      "source": [
        "# PANDAS:\n",
        "# Given data\n",
        "import pandas as pd\n",
        "import numpy as np\n",
        "dates = pd.date_range('20190214', periods=6)\n",
        "numbers = np.matrix( [[ 101, 103], [105.5, 75], [102, 80.3], [100, 85], [110, 98], [109.6, 125.7 ]] )\n",
        "df = pd.DataFrame(numbers, index=dates, columns=['A','B'])\n",
        "print (df)"
      ],
      "execution_count": 0,
      "outputs": [
        {
          "output_type": "stream",
          "text": [
            "                A      B\n",
            "2019-02-14  101.0  103.0\n",
            "2019-02-15  105.5   75.0\n",
            "2019-02-16  102.0   80.3\n",
            "2019-02-17  100.0   85.0\n",
            "2019-02-18  110.0   98.0\n",
            "2019-02-19  109.6  125.7\n"
          ],
          "name": "stdout"
        }
      ]
    },
    {
      "cell_type": "code",
      "metadata": {
        "colab_type": "code",
        "outputId": "67d13cb6-3db2-4eb6-bde5-852a7c17da3f",
        "id": "xB3L12HoJyRh",
        "colab": {
          "base_uri": "https://localhost:8080/",
          "height": 68
        }
      },
      "source": [
        "#1 eilutė, kur index (2019-02-18):\n",
        "print(df.loc['2019-02-18'])"
      ],
      "execution_count": 0,
      "outputs": [
        {
          "output_type": "stream",
          "text": [
            "A    110.0\n",
            "B     98.0\n",
            "Name: 2019-02-18 00:00:00, dtype: float64\n"
          ],
          "name": "stdout"
        }
      ]
    },
    {
      "cell_type": "code",
      "metadata": {
        "id": "sPz2BdKAJ0Z7",
        "colab_type": "code",
        "outputId": "48189915-3aba-4eec-dc1f-1ce5862b3177",
        "colab": {
          "base_uri": "https://localhost:8080/",
          "height": 68
        }
      },
      "source": [
        "#2 eilutė, kur indeksas yra (datetime(2019-02-18))\n",
        "#df.index ==  \n",
        "print(df.loc[datetime.datetime(2019,2,18)])"
      ],
      "execution_count": 0,
      "outputs": [
        {
          "output_type": "stream",
          "text": [
            "A    110.0\n",
            "B     98.0\n",
            "Name: 2019-02-18 00:00:00, dtype: float64\n"
          ],
          "name": "stdout"
        }
      ]
    },
    {
      "cell_type": "code",
      "metadata": {
        "id": "44fAVJ7jKZE3",
        "colab_type": "code",
        "outputId": "45caaaa0-1066-4453-dafc-239165b1d78f",
        "colab": {
          "base_uri": "https://localhost:8080/",
          "height": 51
        }
      },
      "source": [
        "#3 eilute, kur indeksas yra priespaskutinis\n",
        "print(df[-2:-1])"
      ],
      "execution_count": 0,
      "outputs": [
        {
          "output_type": "stream",
          "text": [
            "                A     B\n",
            "2019-02-18  110.0  98.0\n"
          ],
          "name": "stdout"
        }
      ]
    },
    {
      "cell_type": "code",
      "metadata": {
        "colab_type": "code",
        "outputId": "ed5f0dcd-db60-465e-aae0-9bef60bd5e40",
        "id": "qYMW7CBkqsC-",
        "colab": {
          "base_uri": "https://localhost:8080/",
          "height": 68
        }
      },
      "source": [
        "#4 pirmas 2 eilutes ir stulpeli B\n",
        "\n",
        "#column = df.head(2)\n",
        "#print(df.head(2)['B'], end = '\\n\\n')\n",
        "print(df[:2:][['B']])"
      ],
      "execution_count": 0,
      "outputs": [
        {
          "output_type": "stream",
          "text": [
            "                B\n",
            "2019-02-14  103.0\n",
            "2019-02-15   75.0\n"
          ],
          "name": "stdout"
        }
      ]
    },
    {
      "cell_type": "code",
      "metadata": {
        "id": "tVABr5J_NSL9",
        "colab_type": "code",
        "outputId": "ac8969c8-2570-4b46-c104-193c7c2eb0f0",
        "colab": {
          "base_uri": "https://localhost:8080/",
          "height": 136
        }
      },
      "source": [
        "#5 isrusiuoti df pagal B, mazejimo tvarka\n",
        "df = df.sort_values(by = 'B', ascending = False)\n",
        "\n",
        "print (df)"
      ],
      "execution_count": 0,
      "outputs": [
        {
          "output_type": "stream",
          "text": [
            "                A      B\n",
            "2019-02-19  109.6  125.7\n",
            "2019-02-14  101.0  103.0\n",
            "2019-02-18  110.0   98.0\n",
            "2019-02-17  100.0   85.0\n",
            "2019-02-16  102.0   80.3\n",
            "2019-02-15  105.5   75.0\n"
          ],
          "name": "stdout"
        }
      ]
    },
    {
      "cell_type": "code",
      "metadata": {
        "id": "NGIDKnM9PJ6Z",
        "colab_type": "code",
        "outputId": "cd17d048-6962-4bb7-a468-031c2639f48c",
        "colab": {
          "base_uri": "https://localhost:8080/",
          "height": 34
        }
      },
      "source": [
        "# 6 rasti stulpelio 'A' max reiksme\n",
        "print ('A max = ' + str(df['A'].max()))"
      ],
      "execution_count": 0,
      "outputs": [
        {
          "output_type": "stream",
          "text": [
            "A max = 110.0\n"
          ],
          "name": "stdout"
        }
      ]
    },
    {
      "cell_type": "code",
      "metadata": {
        "id": "EWu2eqQiQz2W",
        "colab_type": "code",
        "outputId": "d52da7fd-75b2-48c8-984e-95587f9777fe",
        "colab": {
          "base_uri": "https://localhost:8080/",
          "height": 170
        }
      },
      "source": [
        "# 7 padauginti didziausia reiksme dvejais kartais\n",
        "print('before = ' + str(df['A'].max()))\n",
        "df.replace(df['A'].max(), df['A'].max() * 2, inplace = True)\n",
        "print('after = ' + str(df['A'].max()))\n",
        "\n",
        "print(df)"
      ],
      "execution_count": 0,
      "outputs": [
        {
          "output_type": "stream",
          "text": [
            "before = 110.0\n",
            "after = 220.0\n",
            "                A      B\n",
            "2019-02-19  109.6  125.7\n",
            "2019-02-14  101.0  103.0\n",
            "2019-02-18  220.0   98.0\n",
            "2019-02-17  100.0   85.0\n",
            "2019-02-16  102.0   80.3\n",
            "2019-02-15  105.5   75.0\n"
          ],
          "name": "stdout"
        }
      ]
    },
    {
      "cell_type": "code",
      "metadata": {
        "id": "KqHv0zOBUVbF",
        "colab_type": "code",
        "outputId": "ee79be99-1c62-4028-d47e-a87123454351",
        "colab": {
          "base_uri": "https://localhost:8080/",
          "height": 139
        }
      },
      "source": [
        "# 8 gauti eilutes kur reiksmes didesnes uz 105\n",
        "data = pd.DataFrame(numbers, index = dates, columns = ['A', 'B'])\n",
        "data = data[df.A > 105]\n",
        "\n",
        "print (data)"
      ],
      "execution_count": 0,
      "outputs": [
        {
          "output_type": "stream",
          "text": [
            "                A      B\n",
            "2019-02-15  105.5   75.0\n",
            "2019-02-18  110.0   98.0\n",
            "2019-02-19  109.6  125.7\n"
          ],
          "name": "stdout"
        },
        {
          "output_type": "stream",
          "text": [
            "/usr/local/lib/python3.6/dist-packages/ipykernel_launcher.py:2: UserWarning: Boolean Series key will be reindexed to match DataFrame index.\n",
            "  \n"
          ],
          "name": "stderr"
        }
      ]
    },
    {
      "cell_type": "code",
      "metadata": {
        "id": "agaSp9DFzscX",
        "colab_type": "code",
        "outputId": "0bc8e154-9f3e-45b5-feac-37b8cb48b4b9",
        "colab": {
          "base_uri": "https://localhost:8080/",
          "height": 423
        }
      },
      "source": [
        "# 9 nupiesti stulpelio A reiksmes\n",
        "print(df)\n",
        "print(df['A'].plot(title = 'Plot'))"
      ],
      "execution_count": 0,
      "outputs": [
        {
          "output_type": "stream",
          "text": [
            "                A      B\n",
            "2019-02-19  109.6  125.7\n",
            "2019-02-14  101.0  103.0\n",
            "2019-02-18  220.0   98.0\n",
            "2019-02-17  100.0   85.0\n",
            "2019-02-16  102.0   80.3\n",
            "2019-02-15  105.5   75.0\n",
            "AxesSubplot(0.125,0.2;0.775x0.68)\n"
          ],
          "name": "stdout"
        },
        {
          "output_type": "display_data",
          "data": {
            "image/png": "[encoded data removed]",
            "text/plain": [
              "<Figure size 432x288 with 1 Axes>"
            ]
          },
          "metadata": {
            "tags": []
          }
        }
      ]
    },
    {
      "cell_type": "code",
      "metadata": {
        "id": "9AkNCPI12HrF",
        "colab_type": "code",
        "outputId": "8456e698-e810-42d3-854d-cad2847b8998",
        "colab": {
          "base_uri": "https://localhost:8080/",
          "height": 102
        }
      },
      "source": [
        "# 10 istrinti eilutes kur B reiksmes didesnes uz stulpelio A reiksmes\n",
        "print(df[df.B < df.A])"
      ],
      "execution_count": 0,
      "outputs": [
        {
          "output_type": "stream",
          "text": [
            "                A     B\n",
            "2019-02-18  220.0  98.0\n",
            "2019-02-17  100.0  85.0\n",
            "2019-02-16  102.0  80.3\n",
            "2019-02-15  105.5  75.0\n"
          ],
          "name": "stdout"
        }
      ]
    },
    {
      "cell_type": "code",
      "metadata": {
        "id": "p5X8G9KN3M1-",
        "colab_type": "code",
        "colab": {}
      },
      "source": [
        "# Numpy:\n",
        "# Given data:\n",
        "import numpy as np\n",
        "a = np.random.randint(low = 0, high = 10, size = 10)\n",
        "b = np.random.randint(low = 0, high = 10, size = 10)\n"
      ],
      "execution_count": 0,
      "outputs": []
    },
    {
      "cell_type": "code",
      "metadata": {
        "id": "cSZPYbfF5AfJ",
        "colab_type": "code",
        "outputId": "503c181e-6846-4313-843d-ae37ca6a09e5",
        "colab": {
          "base_uri": "https://localhost:8080/",
          "height": 34
        }
      },
      "source": [
        "# 1 suma dvieju vektoriu\n",
        "c = np.sum(a + b)\n",
        "print (c) "
      ],
      "execution_count": 0,
      "outputs": [
        {
          "output_type": "stream",
          "text": [
            "100\n"
          ],
          "name": "stdout"
        }
      ]
    },
    {
      "cell_type": "code",
      "metadata": {
        "id": "emmkO4105bpr",
        "colab_type": "code",
        "outputId": "93f4a197-24ec-4371-cd61-b4da978ae03f",
        "colab": {
          "base_uri": "https://localhost:8080/",
          "height": 51
        }
      },
      "source": [
        "# 2 teigiamu elementu anuliavimas\n",
        "a = np.random.randint(low = -5, high = 10, size = 10)\n",
        "print(a)\n",
        "\n",
        "a[a>0] = 0\n",
        "print (a)"
      ],
      "execution_count": 0,
      "outputs": [
        {
          "output_type": "stream",
          "text": [
            "[-1 -4 -5  1  8  9  0 -4  7  2]\n",
            "[-1 -4 -5  0  0  0  0 -4  0  0]\n"
          ],
          "name": "stdout"
        }
      ]
    },
    {
      "cell_type": "code",
      "metadata": {
        "id": "RRxdYWWA6LZt",
        "colab_type": "code",
        "outputId": "74f1cfa6-edb6-4c2b-f0df-84b861aab100",
        "colab": {
          "base_uri": "https://localhost:8080/",
          "height": 51
        }
      },
      "source": [
        "# 3 ismetimas daugiau nei 6\n",
        "a = np.random.randint(low = 0, high = 10, size = 10)\n",
        "print (a)\n",
        "\n",
        "a = a[a<=6]\n",
        "print (a)"
      ],
      "execution_count": 0,
      "outputs": [
        {
          "output_type": "stream",
          "text": [
            "[4 7 5 5 4 1 6 9 4 0]\n",
            "[4 5 5 4 1 6 4 0]\n"
          ],
          "name": "stdout"
        }
      ]
    },
    {
      "cell_type": "code",
      "metadata": {
        "id": "2ETmxAFn-FxJ",
        "colab_type": "code",
        "outputId": "c74f1d26-a703-4218-810a-e755d8ecedbb",
        "colab": {
          "base_uri": "https://localhost:8080/",
          "height": 51
        }
      },
      "source": [
        "# 4 dvieju vienodu salia esanciu radimas\n",
        "a = np.random.randint(low = 1, high = 5, size = 10)\n",
        "print(a)\n",
        "\n",
        "b = a[1::]\n",
        "c = a[:-1:]\n",
        "result = np.where(b == c)\n",
        "print(result[0])"
      ],
      "execution_count": 0,
      "outputs": [
        {
          "output_type": "stream",
          "text": [
            "[1 2 2 3 4 1 4 4 3 2]\n",
            "[1 6]\n"
          ],
          "name": "stdout"
        }
      ]
    },
    {
      "cell_type": "code",
      "metadata": {
        "id": "0if70RGFFji9",
        "colab_type": "code",
        "outputId": "30bafcb2-11c1-44a2-e19b-53c16b88a7a1",
        "colab": {
          "base_uri": "https://localhost:8080/",
          "height": 85
        }
      },
      "source": [
        "# 5 elementu kur a didesni nei b uz elementus radimas\n",
        "a = np.random.randint(low = 1, high = 10, size = 10)\n",
        "b = np.random.randint(low = 1, high = 10, size = 10)\n",
        "\n",
        "print(a)\n",
        "print(b)\n",
        "\n",
        "result = np.where(a > b)\n",
        "print(result[0], '\\n')\n",
        "\n"
      ],
      "execution_count": 0,
      "outputs": [
        {
          "output_type": "stream",
          "text": [
            "[7 2 2 4 7 7 1 1 8 5]\n",
            "[9 2 1 5 7 4 9 4 5 6]\n",
            "[2 5 8] \n",
            "\n"
          ],
          "name": "stdout"
        }
      ]
    },
    {
      "cell_type": "code",
      "metadata": {
        "id": "InWv14uBGSvI",
        "colab_type": "code",
        "outputId": "9797236c-cd36-4dda-8761-ef69ee6672a8",
        "colab": {
          "base_uri": "https://localhost:8080/",
          "height": 51
        }
      },
      "source": [
        "# 6 elementu perstumimas vektoriuje pakartojant paskutini\n",
        "a = np.random.randint(low = 1, high = 10, size = 10)\n",
        "print(a)\n",
        "\n",
        "#get the last element\n",
        "last = a[-1::]\n",
        "\n",
        "#roll left\n",
        "a = np.roll(a, -1)\n",
        "\n",
        "#remove the last\n",
        "a = a[:-1:]\n",
        "\n",
        "#pridedam ta kur pries tai praradom\n",
        "a = np.append(a, last)\n",
        "\n",
        "print (a)\n",
        "\n"
      ],
      "execution_count": 0,
      "outputs": [
        {
          "output_type": "stream",
          "text": [
            "[3 1 1 4 7 9 6 7 3 9]\n",
            "[1 1 4 7 9 6 7 3 9 9]\n"
          ],
          "name": "stdout"
        }
      ]
    },
    {
      "cell_type": "code",
      "metadata": {
        "id": "ZylYuxApGV--",
        "colab_type": "code",
        "outputId": "e5bf9981-63a3-44d3-c999-891071190caa",
        "colab": {
          "base_uri": "https://localhost:8080/",
          "height": 51
        }
      },
      "source": [
        "# 7 sukeitimas elementu eiles tvarkos\n",
        "a = np.random.randint(low = 1, high = 10, size = 10)\n",
        "print(a)\n",
        "\n",
        "#reversed\n",
        "a = np.flip(a, 0)\n",
        "print(a)"
      ],
      "execution_count": 0,
      "outputs": [
        {
          "output_type": "stream",
          "text": [
            "[9 5 8 1 7 7 8 4 4 3]\n",
            "[3 4 4 8 7 7 1 8 5 9]\n"
          ],
          "name": "stdout"
        }
      ]
    },
    {
      "cell_type": "code",
      "metadata": {
        "id": "-G3o7JrNGYJp",
        "colab_type": "code",
        "outputId": "b2db51a0-49ba-4f0e-dcee-34944c6ec37e",
        "colab": {
          "base_uri": "https://localhost:8080/",
          "height": 51
        }
      },
      "source": [
        "# 8 kas antro elemento uznulinimas\n",
        "a = np.random.randint (low = 1, high=10, size = 10)\n",
        "print(a)\n",
        "\n",
        "#get the first and every second and then set it to 0\n",
        "a[1::2] = 0\n",
        "print(a)"
      ],
      "execution_count": 0,
      "outputs": [
        {
          "output_type": "stream",
          "text": [
            "[6 4 5 8 7 8 2 4 7 7]\n",
            "[6 0 5 0 7 0 2 0 7 0]\n"
          ],
          "name": "stdout"
        }
      ]
    },
    {
      "cell_type": "code",
      "metadata": {
        "id": "r7D5Wb08Gbvh",
        "colab_type": "code",
        "outputId": "5aa991bc-a220-4239-bd29-1bb660d13453",
        "colab": {
          "base_uri": "https://localhost:8080/",
          "height": 136
        }
      },
      "source": [
        "# 9 matricos eiluciu vidurkius, matricos stulpeliu vidurkius\n",
        "a = np.random.randint(low = 1, high = 10, size = (5,5))\n",
        "print (a)\n",
        "\n",
        "row = a.mean(1)\n",
        "column = a.mean(0)\n",
        "\n",
        "print ('row average: ' + str(row))\n",
        "print ('column average: ' + str(column))"
      ],
      "execution_count": 0,
      "outputs": [
        {
          "output_type": "stream",
          "text": [
            "[[1 6 9 2 8]\n",
            " [7 5 7 5 1]\n",
            " [5 5 1 2 6]\n",
            " [4 7 6 9 2]\n",
            " [6 6 4 7 6]]\n",
            "row average: [5.2 5.  3.8 5.6 5.8]\n",
            "column average: [4.6 5.8 5.4 5.  4.6]\n"
          ],
          "name": "stdout"
        }
      ]
    },
    {
      "cell_type": "code",
      "metadata": {
        "id": "eEvfinSdGgwp",
        "colab_type": "code",
        "outputId": "4e2b4e5b-27e7-4bb2-a16c-22f5459537fd",
        "colab": {
          "base_uri": "https://localhost:8080/",
          "height": 119
        }
      },
      "source": [
        "# 10 matricos diagonalinius elementus, nenaudoti diag?\n",
        "a = np.random.randint(low = 1, high = 10, size = (5,5))\n",
        "print (a)\n",
        "\n",
        "b = np.diagonal(np.flip(a,1))\n",
        "\n",
        "print ('Diagonal: ', end= '')\n",
        "print (b)"
      ],
      "execution_count": 0,
      "outputs": [
        {
          "output_type": "stream",
          "text": [
            "[[3 8 6 8 4]\n",
            " [1 1 4 1 3]\n",
            " [6 3 3 3 3]\n",
            " [3 5 4 5 2]\n",
            " [6 5 3 4 5]]\n",
            "Diagonal: [4 1 3 5 6]\n"
          ],
          "name": "stdout"
        }
      ]
    },
    {
      "cell_type": "code",
      "metadata": {
        "colab_type": "code",
        "outputId": "895bea69-a530-4437-961c-7d5ccb990a25",
        "id": "RCw13VRkNJ5Y",
        "colab": {
          "base_uri": "https://localhost:8080/",
          "height": 1000
        }
      },
      "source": [
        "# 2 uzduotis + 3 uzduotis\n",
        "#https://www.dukascopy.com/trading-tools/widgets/quotes/historical_data_feed\n",
        "\n",
        "import pandas as pd \n",
        "import numpy as np\n",
        "import matplotlib.pyplot as plt\n",
        "\n",
        "def read_csv (file, type):\n",
        "    '''function for reading csv in certain way and return the data in dataframe object'''\n",
        "\n",
        "    print('Reading daily .csv file: ', str(file))\n",
        "    if type != 'Ticks':\n",
        "      csv_data = pd.read_csv(file, parse_dates = ['Date'], index_col = ['Date'])\n",
        "    else:\n",
        "      csv_data = pd.read_csv(file)\n",
        "    \n",
        "    print('Converting to dataframe...')\n",
        "    if type != 'Ticks':\n",
        "      df_data = pd.DataFrame(csv_data, columns = ['Date', 'Open'])\n",
        "    else:\n",
        "      df_data = pd.DataFrame(csv_data, columns = ['Bid'] )\n",
        "    return df_data\n",
        "\n",
        "def plot_and_show (dataframe, title):\n",
        "  '''takes dataframe object and plots it with according title'''\n",
        "  print('Plotting..')\n",
        "  if title != 'Ticks':\n",
        "    dataframe.plot(title = title, y = 'Open', color = 'black')\n",
        "  else:\n",
        "    dataframe.plot(title = title, y = 'Bid', color = 'black')\n",
        "\n",
        "#---------------------------- by day\n",
        "\n",
        "data_day = read_csv('drive/My Drive/Colab Notebooks/TSLA_Daily.csv', 'Daily')\n",
        "plot_and_show(data_day, 'Daily')\n",
        "\n",
        "plt.xlabel (\"Date\")\n",
        "plt.ylabel (\"Open\")\n",
        "plt.show()\n",
        "\n",
        "#---------------------------- by minutes\n",
        "\n",
        "data_minute = read_csv('drive/My Drive/Colab Notebooks/AAPL_Minute.csv', 'Minute')\n",
        "plot_and_show(data_minute, 'Minute')\n",
        "\n",
        "plt.xlabel (\"Minutes\")\n",
        "plt.ylabel (\"Open\")\n",
        "plt.show()\n",
        "\n",
        "#---------------------------- by ticks\n",
        "data_ticks = read_csv('drive/My Drive/Colab Notebooks/A.USD_Ticks.csv', 'Ticks')\n",
        "plot_and_show(data_ticks, 'Ticks')\n",
        "\n",
        "plt.xlabel (\"Ticks\")\n",
        "plt.ylabel (\"Bid\")\n",
        "plt.show()\n",
        "\n",
        "\n",
        "\n",
        "\n"
      ],
      "execution_count": 0,
      "outputs": [
        {
          "output_type": "stream",
          "text": [
            "Reading daily .csv file:  drive/My Drive/Colab Notebooks/TSLA_Daily.csv\n",
            "Converting to dataframe...\n",
            "Plotting..\n"
          ],
          "name": "stdout"
        },
        {
          "output_type": "display_data",
          "data": {
            "image/png": "[encoded data removed]",
            "text/plain": [
              "<Figure size 432x288 with 1 Axes>"
            ]
          },
          "metadata": {
            "tags": []
          }
        },
        {
          "output_type": "stream",
          "text": [
            "Reading daily .csv file:  drive/My Drive/Colab Notebooks/AAPL_Minute.csv\n",
            "Converting to dataframe...\n",
            "Plotting..\n"
          ],
          "name": "stdout"
        },
        {
          "output_type": "display_data",
          "data": {
            "image/png": "[encoded data removed]",
            "text/plain": [
              "<Figure size 432x288 with 1 Axes>"
            ]
          },
          "metadata": {
            "tags": []
          }
        },
        {
          "output_type": "stream",
          "text": [
            "Reading daily .csv file:  drive/My Drive/Colab Notebooks/A.USD_Ticks.csv\n",
            "Converting to dataframe...\n",
            "Plotting..\n"
          ],
          "name": "stdout"
        },
        {
          "output_type": "display_data",
          "data": {
            "image/png": "[encoded data removed]",
            "text/plain": [
              "<Figure size 432x288 with 1 Axes>"
            ]
          },
          "metadata": {
            "tags": []
          }
        }
      ]
    },
    {
      "cell_type": "code",
      "metadata": {
        "id": "xfOeRhA_NQJA",
        "colab_type": "code",
        "outputId": "4af563bb-123a-40ea-e8c2-c33b491bccf1",
        "colab": {
          "base_uri": "https://localhost:8080/",
          "height": 292
        }
      },
      "source": [
        "# 4 uzduotis\n",
        "import datetime\n",
        "\n",
        "def generate_plot(dates):\n",
        "  data = (np.random.rand(1000)-0.5).cumsum()+300\n",
        "  df = pd.DataFrame(data, index=dates, columns=['Price'])\n",
        "  df.plot()\n",
        " \n",
        "dates = pd.date_range(datetime.datetime.now().date(), periods=1000)\n",
        "generate_plot(dates)\n",
        "\n",
        "plt.ylabel('Price')    \n",
        "plt.xlabel('Date')\n",
        "plt.show()"
      ],
      "execution_count": 0,
      "outputs": [
        {
          "output_type": "display_data",
          "data": {
            "image/png": "[encoded data removed]",
            "text/plain": [
              "<Figure size 432x288 with 1 Axes>"
            ]
          },
          "metadata": {
            "tags": []
          }
        }
      ]
    },
    {
      "cell_type": "code",
      "metadata": {
        "id": "nuvt3enVS9BM",
        "colab_type": "code",
        "outputId": "9372358a-924a-4a43-9909-d1e180ab5617",
        "colab": {
          "base_uri": "https://localhost:8080/",
          "height": 285
        }
      },
      "source": [
        "# 8 užduotis\n",
        "import pandas as pd\n",
        "import matplotlib.pyplot as plt\n",
        "\n",
        "def create_rate(dataframe, rate):\n",
        "  \n",
        "  dataframe['EUR_RATE'] = rate['Close']\n",
        "  return dataframe.dropna()\n",
        "\n",
        "def calculate_rate(dataframe):\n",
        "\n",
        "  dataframe['Open_EUR'] = dataframe['Open'] * dataframe['EUR_RATE']\n",
        "  return dataframe\n",
        "\n",
        "\n",
        "data_day = pd.read_csv('drive/My Drive/Colab Notebooks/TSLA_Daily.csv', index_col = 'Date', parse_dates = ['Date'])\n",
        "rate = pd.read_csv('drive/My Drive/Colab Notebooks/USDtoEUR_Daily.csv', index_col = 'Date', parse_dates = ['Date'])\n",
        "\n",
        "data_day = calculate_rate(create_rate(data_day, rate))\n",
        "\n",
        "data_day['Open'].plot(color = 'black')\n",
        "data_day['Open_EUR'].plot(color = 'blue')\n",
        "\n",
        "plt.legend(['USD', 'EUR'])\n",
        "\n",
        "plt.show()\n"
      ],
      "execution_count": 0,
      "outputs": [
        {
          "output_type": "display_data",
          "data": {
            "image/png": "[encoded data removed]",
            "text/plain": [
              "<Figure size 432x288 with 1 Axes>"
            ]
          },
          "metadata": {
            "tags": []
          }
        }
      ]
    },
    {
      "cell_type": "code",
      "metadata": {
        "id": "TITYF94CAJpo",
        "colab_type": "code",
        "outputId": "3f7bd6e7-7480-4a8d-b0e6-8afd6a43b7e3",
        "colab": {
          "base_uri": "https://localhost:8080/",
          "height": 217
        }
      },
      "source": [
        "# 9 uzduotis\n",
        "import pandas as pd\n",
        "\n",
        "data_minutes = pd.read_csv('drive/My Drive/Colab Notebooks/AAPL_Minute.csv', parse_dates=['Date']) \n",
        "data_minutes = data_minutes['Date'].diff()\n",
        "data_minutes = data_minutes.sort_values(ascending = False, kind = 'quicksort')\n",
        "\n",
        "print(data_minutes[:10])\n"
      ],
      "execution_count": 0,
      "outputs": [
        {
          "output_type": "stream",
          "text": [
            "1193   00:08:00\n",
            "1201   00:07:00\n",
            "1245   00:06:00\n",
            "1248   00:05:00\n",
            "1226   00:05:00\n",
            "1185   00:04:00\n",
            "1219   00:04:00\n",
            "1232   00:04:00\n",
            "1228   00:03:00\n",
            "1200   00:03:00\n",
            "Name: Date, dtype: timedelta64[ns]\n"
          ],
          "name": "stdout"
        }
      ]
    },
    {
      "cell_type": "code",
      "metadata": {
        "id": "oTEgYAYQAXkP",
        "colab_type": "code",
        "outputId": "8447d090-a297-492c-ff28-0b8da562e74a",
        "colab": {
          "base_uri": "https://localhost:8080/",
          "height": 128
        }
      },
      "source": [
        "from google.colab import drive\n",
        "drive.mount('/content/drive')"
      ],
      "execution_count": 0,
      "outputs": [
        {
          "output_type": "stream",
          "text": [
            "Go to this URL in a browser: https://accounts.google.com/o/oauth2/auth?client_id=947318989803-6bn6qk8qdgf4n4g3pfee6491hc0brc4i.apps.googleusercontent.com&redirect_uri=urn%3aietf%3awg%3aoauth%3a2.0%3aoob&response_type=code&scope=email%20https%3a%2f%2fwww.googleapis.com%2fauth%2fdocs.test%20https%3a%2f%2fwww.googleapis.com%2fauth%2fdrive%20https%3a%2f%2fwww.googleapis.com%2fauth%2fdrive.photos.readonly%20https%3a%2f%2fwww.googleapis.com%2fauth%2fpeopleapi.readonly\n",
            "\n",
            "Enter your authorization code:\n",
            "··········\n",
            "Mounted at /content/drive\n"
          ],
          "name": "stdout"
        }
      ]
    }
  ]
}